{
  "cells": [
    {
      "cell_type": "markdown",
      "metadata": {
        "id": "view-in-github",
        "colab_type": "text"
      },
      "source": [
        "<a href=\"https://colab.research.google.com/github/SangeethaSusan/YouTube-Analysis-/blob/main/YouTubeData_.ipynb\" target=\"_parent\"><img src=\"https://colab.research.google.com/assets/colab-badge.svg\" alt=\"Open In Colab\"/></a>"
      ]
    },
    {
      "cell_type": "code",
      "execution_count": null,
      "metadata": {
        "colab": {
          "base_uri": "https://localhost:8080/"
        },
        "id": "a1QT4JnB19QR",
        "outputId": "d2bf7c3a-78d3-4401-c1c1-6c39a3b35a95"
      },
      "outputs": [
        {
          "output_type": "stream",
          "name": "stdout",
          "text": [
            "Mounted at /content/drive\n"
          ]
        }
      ],
      "source": [
        "from google.colab import drive\n",
        "drive.mount('/content/drive')"
      ]
    },
    {
      "cell_type": "code",
      "execution_count": null,
      "metadata": {
        "id": "Mw6LtmrH2Pci"
      },
      "outputs": [],
      "source": [
        "data_path = \"/content/drive/MyDrive/YouTube Video Analysis/*.csv\""
      ]
    },
    {
      "cell_type": "code",
      "execution_count": null,
      "metadata": {
        "id": "uSC2TDJ62rvu"
      },
      "outputs": [],
      "source": [
        "from pyspark.sql import SparkSession\n",
        "\n",
        "spark = SparkSession.builder.appName(\"YouTube Video Analysis\").getOrCreate()"
      ]
    },
    {
      "cell_type": "code",
      "execution_count": null,
      "metadata": {
        "id": "1O9d_0OE2uA0"
      },
      "outputs": [],
      "source": [
        "# Loading the data\n",
        "df = spark.read.csv(data_path, header=True, inferSchema=True)"
      ]
    },
    {
      "cell_type": "code",
      "execution_count": null,
      "metadata": {
        "colab": {
          "base_uri": "https://localhost:8080/"
        },
        "id": "KdQUewJk8UpK",
        "outputId": "fe66ccd4-1fff-4306-a20f-0a31215d85b6"
      },
      "outputs": [
        {
          "output_type": "stream",
          "name": "stdout",
          "text": [
            "+-----------+-------------+--------------------+-------------+-----------+--------------------+--------------------+------+-----+--------+-------------+--------------------+-----------------+----------------+----------------------+--------------------+-------+\n",
            "|   video_id|trending_date|               title|channel_title|category_id|        publish_time|                tags| views|likes|dislikes|comment_count|      thumbnail_link|comments_disabled|ratings_disabled|video_error_or_removed|         description|Country|\n",
            "+-----------+-------------+--------------------+-------------+-----------+--------------------+--------------------+------+-----+--------+-------------+--------------------+-----------------+----------------+----------------------+--------------------+-------+\n",
            "|gDuslQ9avLc|     17.14.11|Захар и Полина уч...|    Т—Ж БОГАЧ|         22|2017-11-13T09:09:...|\"захар и полина|\"...| 62408|  334|     190|           50|https://i.ytimg.c...|            FALSE|           FALSE|                 FALSE|Знакомьтесь, это ...|     RU|\n",
            "|AOCJIFEA_jE|     17.14.11|Биржа Мемов #29. ...| Druzhko Show|         22|2017-11-13T17:32:...|\"биржа мемов|\"\"ле...|330043|43841|    2244|         2977|https://i.ytimg.c...|            FALSE|           FALSE|                 FALSE|В 29 выпуске Друж...|     RU|\n",
            "|VAWNQDgwwOM|     17.14.11|ХАЙП КЭМП - СВОЙ ...|         Юлик|         24|2017-11-13T16:11:...|\"юмор|\"\"комедия\"\"...|424596|49854|     714|         2944|https://i.ytimg.c...|            FALSE|           FALSE|                 FALSE|http://kapitany.r...|     RU|\n",
            "|gknkFwKQfHg|     17.14.11|Сочная кесадилья ...|     Hochland|         22|2017-11-13T06:51:...|\"хохланд|\"\"сыр\"\"|...|112851| 3566|     122|           80|https://i.ytimg.c...|            FALSE|           FALSE|                 FALSE|*** как готовить ...|     RU|\n",
            "|3sYvZcwzZr8|     17.14.11|КЛИПЫ РОДИТЕЛЕЙ Н...|     Совергон|         24|2017-11-13T16:52:...|\"Совергон|\"\"Sover...|243469|36216|     631|         1692|https://i.ytimg.c...|            FALSE|           FALSE|                 FALSE|❏ КОНКУРС КАПИТАН...|     RU|\n",
            "+-----------+-------------+--------------------+-------------+-----------+--------------------+--------------------+------+-----+--------+-------------+--------------------+-----------------+----------------+----------------------+--------------------+-------+\n",
            "only showing top 5 rows\n",
            "\n"
          ]
        }
      ],
      "source": [
        "# Display data\n",
        "df.show(5)"
      ]
    },
    {
      "cell_type": "code",
      "execution_count": null,
      "metadata": {
        "colab": {
          "base_uri": "https://localhost:8080/"
        },
        "id": "1O39LKby8YwK",
        "outputId": "92cff05f-bc5a-4d2a-e740-dea1803d0316"
      },
      "outputs": [
        {
          "output_type": "execute_result",
          "data": {
            "text/plain": [
              "416724"
            ]
          },
          "metadata": {},
          "execution_count": 8
        }
      ],
      "source": [
        "# number of rows\n",
        "df.count()"
      ]
    },
    {
      "cell_type": "code",
      "execution_count": null,
      "metadata": {
        "id": "AYFeH1sY3UnY"
      },
      "outputs": [],
      "source": [
        "# Drop columns thumbnail_link, comment_diabled, ratings_diabled,video_error_or_removed, description\n",
        "df = df.drop('tags','thumbnail_link','comments_disabled','ratings_disabled','video_error_or_removed','description')"
      ]
    },
    {
      "cell_type": "code",
      "source": [
        "df.printSchema()"
      ],
      "metadata": {
        "colab": {
          "base_uri": "https://localhost:8080/"
        },
        "id": "wXExRuPDaIID",
        "outputId": "062e568f-28d8-4b47-9924-e2254a3024b4"
      },
      "execution_count": null,
      "outputs": [
        {
          "output_type": "stream",
          "name": "stdout",
          "text": [
            "root\n",
            " |-- video_id: string (nullable = true)\n",
            " |-- trending_date: string (nullable = true)\n",
            " |-- title: string (nullable = true)\n",
            " |-- channel_title: string (nullable = true)\n",
            " |-- category_id: string (nullable = true)\n",
            " |-- publish_time: string (nullable = true)\n",
            " |-- tags: string (nullable = true)\n",
            " |-- views: string (nullable = true)\n",
            " |-- likes: string (nullable = true)\n",
            " |-- dislikes: string (nullable = true)\n",
            " |-- comment_count: string (nullable = true)\n",
            " |-- Country: string (nullable = true)\n",
            "\n"
          ]
        }
      ]
    },
    {
      "cell_type": "code",
      "execution_count": null,
      "metadata": {
        "id": "61FjknFa4doY"
      },
      "outputs": [],
      "source": [
        "# To convert all columns into their correct type\n",
        "from pyspark.sql.functions import col, to_date, to_timestamp, expr\n",
        "\n",
        "spark.conf.set(\"spark.sql.legacy.timeParserPolicy\", \"LEGACY\")\n",
        "\n",
        "df = (df.withColumn(\"trending_date\",to_date(\"trending_date\",'yy.dd.MM'))\n",
        "      .withColumn(\"category_id\", col(\"category_id\").cast(\"int\"))\n",
        "      .withColumn(\"publish_time\", to_timestamp(\"publish_time\",\"yyyy-MM-dd'T'HH:mm:ss.SSS'Z'\"))\n",
        "      .withColumn(\"views\", col(\"views\").cast(\"long\"))\n",
        "      .withColumn(\"likes\", col(\"likes\").cast(\"long\"))\n",
        "      .withColumn(\"dislikes\", col(\"dislikes\").cast(\"long\"))\n",
        "      .withColumn(\"comment_count\", col(\"comment_count\").cast(\"long\"))\n",
        ")"
      ]
    },
    {
      "cell_type": "markdown",
      "source": [
        "## To check the Missing values"
      ],
      "metadata": {
        "id": "vNIucx2oZ47Z"
      }
    },
    {
      "cell_type": "code",
      "source": [
        "from pyspark.sql import functions as F\n",
        "\n",
        "null_counts = df.select([\n",
        "    F.count(F.when(F.col(c).isNull(), c)).alias(c + \"_nulls\")\n",
        "    for c in df.columns\n",
        "])\n",
        "null_counts.show()\n"
      ],
      "metadata": {
        "colab": {
          "base_uri": "https://localhost:8080/"
        },
        "id": "Qntd6jnyZ2W-",
        "outputId": "6e90d576-6bb5-47de-cd39-9437baf0f6c9"
      },
      "execution_count": null,
      "outputs": [
        {
          "output_type": "stream",
          "name": "stdout",
          "text": [
            "+--------------+-------------------+-----------+-------------------+-----------------+------------------+----------+-----------+-----------+--------------+-------------------+-------------+\n",
            "|video_id_nulls|trending_date_nulls|title_nulls|channel_title_nulls|category_id_nulls|publish_time_nulls|tags_nulls|views_nulls|likes_nulls|dislikes_nulls|comment_count_nulls|Country_nulls|\n",
            "+--------------+-------------------+-----------+-------------------+-----------------+------------------+----------+-----------+-----------+--------------+-------------------+-------------+\n",
            "|             0|              40782|      36713|              37450|            40780|             40782|     38982|      40783|      40784|         40784|              40784|        45751|\n",
            "+--------------+-------------------+-----------+-------------------+-----------------+------------------+----------+-----------+-----------+--------------+-------------------+-------------+\n",
            "\n"
          ]
        }
      ]
    },
    {
      "cell_type": "markdown",
      "metadata": {
        "id": "KIq72w7Q9maT"
      },
      "source": [
        "## Filling and dropping the missing values"
      ]
    },
    {
      "cell_type": "code",
      "execution_count": null,
      "metadata": {
        "id": "5Mrn8k50D6O0"
      },
      "outputs": [],
      "source": [
        "num_cols = [\"views\", \"likes\", \"dislikes\", \"comment_count\"]\n",
        "\n",
        "# Compute medians in one go\n",
        "medians = {col: df.approxQuantile(col, [0.5], 0.001)[0] for col in num_cols}\n",
        "\n",
        "# Fill nulls with medians\n",
        "df = df.na.fill(medians)\n"
      ]
    },
    {
      "cell_type": "code",
      "execution_count": null,
      "metadata": {
        "id": "UpT1mNpX5OU_"
      },
      "outputs": [],
      "source": [
        "df = df.fillna({\n",
        "    'title':'No title',\n",
        "    'channel_title':'No channel title',\n",
        "    'category_id':0,\n",
        "    'Country':'Unknown'\n",
        "})"
      ]
    },
    {
      "cell_type": "code",
      "execution_count": null,
      "metadata": {
        "id": "TvK9ZR9o38lv"
      },
      "outputs": [],
      "source": [
        "# removing null rows from publishing_time, trending_date\n",
        "df = df.na.drop(subset=['publish_time','trending_date'])"
      ]
    },
    {
      "cell_type": "markdown",
      "source": [
        "## To check the Missing values"
      ],
      "metadata": {
        "id": "GQ0nMEyO5aGo"
      }
    },
    {
      "cell_type": "code",
      "execution_count": null,
      "metadata": {
        "colab": {
          "base_uri": "https://localhost:8080/"
        },
        "id": "J3qirs4zIbUY",
        "outputId": "63960d4e-3c1c-43e5-b65c-af98b8928750"
      },
      "outputs": [
        {
          "output_type": "stream",
          "name": "stdout",
          "text": [
            "+--------------+-------------------+-----------+-------------------+-----------------+------------------+----------+-----------+-----------+--------------+-------------------+-------------+\n",
            "|video_id_nulls|trending_date_nulls|title_nulls|channel_title_nulls|category_id_nulls|publish_time_nulls|tags_nulls|views_nulls|likes_nulls|dislikes_nulls|comment_count_nulls|Country_nulls|\n",
            "+--------------+-------------------+-----------+-------------------+-----------------+------------------+----------+-----------+-----------+--------------+-------------------+-------------+\n",
            "|             0|                  0|          0|                  0|                0|                 0|         0|          0|          0|             0|                  0|            0|\n",
            "+--------------+-------------------+-----------+-------------------+-----------------+------------------+----------+-----------+-----------+--------------+-------------------+-------------+\n",
            "\n"
          ]
        }
      ],
      "source": [
        "from pyspark.sql import functions as F\n",
        "\n",
        "null_counts = df.select([\n",
        "    F.count(F.when(F.col(c).isNull(), c)).alias(c + \"_nulls\")\n",
        "    for c in df.columns\n",
        "])\n",
        "null_counts.show()\n"
      ]
    },
    {
      "cell_type": "code",
      "execution_count": null,
      "metadata": {
        "id": "gKCAKn5xJIyS"
      },
      "outputs": [],
      "source": [
        "# Dropping duplicates\n",
        "df= df.dropDuplicates([\"video_id\",\"trending_date\",\"Country\"])"
      ]
    },
    {
      "cell_type": "code",
      "execution_count": null,
      "metadata": {
        "colab": {
          "base_uri": "https://localhost:8080/"
        },
        "id": "Hjz-XAKs-Q_-",
        "outputId": "47c500e0-13e4-415b-d26f-7cf3960b296a"
      },
      "outputs": [
        {
          "output_type": "execute_result",
          "data": {
            "text/plain": [
              "359391"
            ]
          },
          "metadata": {},
          "execution_count": 16
        }
      ],
      "source": [
        "df.count()"
      ]
    },
    {
      "cell_type": "code",
      "execution_count": null,
      "metadata": {
        "id": "g7MP2iFt4MFV"
      },
      "outputs": [],
      "source": [
        "# Creating a new cleaned HiveQL Table YouTubeData\n",
        "df.createOrReplaceTempView('YouTubeData')"
      ]
    },
    {
      "cell_type": "code",
      "execution_count": null,
      "metadata": {
        "id": "v0SdTbfF-TYz",
        "colab": {
          "base_uri": "https://localhost:8080/"
        },
        "outputId": "6a457bce-3014-4788-a6fe-3952fed85594"
      },
      "outputs": [
        {
          "output_type": "stream",
          "name": "stdout",
          "text": [
            "+--------+-------------+------------------------------+-----------------------+-----------+-------------------+--------------------+-------+-----+--------+-------------+-------+\n",
            "|video_id|trending_date|                         title|          channel_title|category_id|       publish_time|                tags|  views|likes|dislikes|comment_count|Country|\n",
            "+--------+-------------+------------------------------+-----------------------+-----------+-------------------+--------------------+-------+-----+--------+-------------+-------+\n",
            "|  #NAME?|   2017-11-14|          Son mec lui disai...|              PEOPLE TV|         22|2017-11-13 17:00:33|              [none]|  11132|   50|      10|           16|     FR|\n",
            "|  #NAME?|   2017-11-14|          CHRISTMAS HAS GON...|             MoreZoella|         22|2017-11-10 19:19:43|\"zoe sugg|\"\"zoell...|1164201|57309|     749|          624|     GB|\n",
            "|  #NAME?|   2017-11-14|          స‌మంత కంట‌త‌డి | ...|          Friday Poster|         24|2017-11-13 08:59:27|\"స‌మంత కంట‌త‌డి|\"...|  31052|   36|      11|            2|     IN|\n",
            "|  #NAME?|   2017-11-14|SNL9 급식체특강5 ㅋㅋ중간에...|도와주세요 구독자 2천명|         22|2017-11-11 17:23:09|              [none]| 154614|  504|     134|          244|     KR|\n",
            "|  #NAME?|   2017-11-14|          ¿Qué versión pref...|           Dreams Music|         10|2017-11-13 17:36:22|\"¿Qué versión pre...|  32145| 2982|      54|          791|     MX|\n",
            "+--------+-------------+------------------------------+-----------------------+-----------+-------------------+--------------------+-------+-----+--------+-------------+-------+\n",
            "\n"
          ]
        }
      ],
      "source": [
        "# Printing first 5 rows\n",
        "spark.sql('SELECT * FROM YouTubeData LIMIT 5').show()"
      ]
    },
    {
      "cell_type": "markdown",
      "source": [
        "# General Overview"
      ],
      "metadata": {
        "id": "5Qzvw0Nirh-n"
      }
    },
    {
      "cell_type": "code",
      "source": [
        "# 1. How many unique videos are there in the dataset?\n",
        "spark.sql('SELECT COUNT(DISTINCT video_id) AS Number_of_unique_videos FROM YouTubeData').show()"
      ],
      "metadata": {
        "colab": {
          "base_uri": "https://localhost:8080/"
        },
        "id": "MTDMHiO-rJ_C",
        "outputId": "fc7f6835-c20d-42f8-8395-eb7977fdf4ca"
      },
      "execution_count": null,
      "outputs": [
        {
          "output_type": "stream",
          "name": "stdout",
          "text": [
            "+-----------------------+\n",
            "|Number_of_unique_videos|\n",
            "+-----------------------+\n",
            "|                 183243|\n",
            "+-----------------------+\n",
            "\n"
          ]
        }
      ]
    },
    {
      "cell_type": "code",
      "source": [
        "# 2. Which country has the most trending videos?\n",
        "spark.sql('''SELECT Country ,COUNT(video_id) AS Number_of_trending_videos\n",
        "FROM YouTubeData\n",
        "GROUP BY Country\n",
        "ORDER BY Number_of_trending_videos DESC\n",
        "LIMIT 1''').show()"
      ],
      "metadata": {
        "colab": {
          "base_uri": "https://localhost:8080/"
        },
        "id": "nqWs-hvAtqp1",
        "outputId": "65cc6302-b312-4162-8d3c-ce0a3ed2198a"
      },
      "execution_count": null,
      "outputs": [
        {
          "output_type": "stream",
          "name": "stdout",
          "text": [
            "+-------+-------------------------+\n",
            "|Country|Number_of_trending_videos|\n",
            "+-------+-------------------------+\n",
            "|     CA|                    39996|\n",
            "+-------+-------------------------+\n",
            "\n"
          ]
        }
      ]
    },
    {
      "cell_type": "code",
      "source": [
        "# 3. Which video stayed trending for the longest time?\n",
        "spark.sql('''SELECT title, COUNT(DISTINCT trending_date) AS Trending_days\n",
        "FROM YouTubeData\n",
        "GROUP BY title\n",
        "ORDER BY Trending_days DESC\n",
        "LIMIT 10''').show()"
      ],
      "metadata": {
        "colab": {
          "base_uri": "https://localhost:8080/"
        },
        "id": "jGjqhfcltz0z",
        "outputId": "31c1ab5b-6fb3-4cd8-dd0a-48da8abbfadc"
      },
      "execution_count": null,
      "outputs": [
        {
          "output_type": "stream",
          "name": "stdout",
          "text": [
            "+--------------------+-------------+\n",
            "|               title|Trending_days|\n",
            "+--------------------+-------------+\n",
            "|     Maroon 5 - Wait|           48|\n",
            "|Nicki Minaj - Chu...|           39|\n",
            "|Jurassic World: F...|           38|\n",
            "|     To Our Daughter|           38|\n",
            "|Justin Timberlake...|           38|\n",
            "|VENOM - Official ...|           37|\n",
            "|Janelle Monáe – M...|           37|\n",
            "| Karol G - Pineapple|           37|\n",
            "|Fergie Performs T...|           37|\n",
            "|Incredibles 2 - O...|           37|\n",
            "+--------------------+-------------+\n",
            "\n"
          ]
        }
      ]
    },
    {
      "cell_type": "code",
      "source": [
        "# 4. How many categories (category_id) are represented in the dataset?\n",
        "spark.sql('''\n",
        "SELECT COUNT(DISTINCT category_id) AS Number_of_categories\n",
        "FROM YouTubeData\n",
        "''').show()"
      ],
      "metadata": {
        "id": "g6becHqktziA",
        "colab": {
          "base_uri": "https://localhost:8080/"
        },
        "outputId": "b952a25f-b210-4bf6-950f-ce3dbbaaa0b4"
      },
      "execution_count": null,
      "outputs": [
        {
          "output_type": "stream",
          "name": "stdout",
          "text": [
            "+--------------------+\n",
            "|Number_of_categories|\n",
            "+--------------------+\n",
            "|                  18|\n",
            "+--------------------+\n",
            "\n"
          ]
        }
      ]
    },
    {
      "cell_type": "code",
      "source": [
        "# 5. What are the top 10 most-viewed videos?\n",
        "spark.sql('''\n",
        "SELECT title,max(views) as number_of_views\n",
        "FROM YouTubeData\n",
        "GROUP BY title\n",
        "ORDER BY number_of_views DESC\n",
        "LIMIT 10\n",
        "''').show()"
      ],
      "metadata": {
        "id": "Q2ApzidktzCd",
        "colab": {
          "base_uri": "https://localhost:8080/"
        },
        "outputId": "c0bd7275-27f0-4351-a438-9c7deceee32b"
      },
      "execution_count": null,
      "outputs": [
        {
          "output_type": "stream",
          "name": "stdout",
          "text": [
            "+--------------------+---------------+\n",
            "|               title|number_of_views|\n",
            "+--------------------+---------------+\n",
            "|Nicky Jam x J. Ba...|      424538912|\n",
            "|Te Bote Remix - C...|      337621571|\n",
            "|Bad Bunny - Amorf...|      328860380|\n",
            "|Ozuna x Romeo San...|      288811992|\n",
            "|Childish Gambino ...|      259721696|\n",
            "|  Drake - God’s Plan|      258164991|\n",
            "|Ariana Grande - N...|      208876887|\n",
            "|Becky G, Natti Na...|      200862743|\n",
            "|YouTube Rewind: T...|      169884583|\n",
            "|Dura - Daddy Yank...|      167456025|\n",
            "+--------------------+---------------+\n",
            "\n"
          ]
        }
      ]
    },
    {
      "cell_type": "markdown",
      "source": [
        "# Channel & Category Analysis"
      ],
      "metadata": {
        "id": "slQqayzwrn6J"
      }
    },
    {
      "cell_type": "code",
      "source": [
        "# 6. Which channels have the highest number of trending videos?\n",
        "spark.sql('''\n",
        "SELECT channel_title , COUNT(DISTINCT video_id) as total_videos\n",
        "FROM YouTubeData\n",
        "GROUP BY channel_title\n",
        "ORDER BY total_videos DESC\n",
        "LIMIT 10\n",
        "''').show()"
      ],
      "metadata": {
        "id": "861rY5TIruY8",
        "colab": {
          "base_uri": "https://localhost:8080/"
        },
        "outputId": "a3468da7-764d-4866-9da6-52bd0892c571"
      },
      "execution_count": null,
      "outputs": [
        {
          "output_type": "stream",
          "name": "stdout",
          "text": [
            "+--------------------+------------+\n",
            "|       channel_title|total_videos|\n",
            "+--------------------+------------+\n",
            "|           SET India|         251|\n",
            "|              SAB TV|         246|\n",
            "|           VikatanTV|         239|\n",
            "|      Анатолий Шарий|         235|\n",
            "|The Late Show wit...|         226|\n",
            "|    Elhiwar Ettounsi|         208|\n",
            "|                 WWE|         203|\n",
            "|           Россия 24|         193|\n",
            "|                ESPN|         185|\n",
            "|                 CNN|         177|\n",
            "+--------------------+------------+\n",
            "\n"
          ]
        }
      ]
    },
    {
      "cell_type": "code",
      "source": [
        "# 7. Which categories (category_id) tend to trend the most across countries?\n",
        "spark.sql('''\n",
        "SELECT category_id, Country, COUNT(DISTINCT video_id) as total_videos\n",
        "FROM YouTubeData\n",
        "GROUP BY category_id, Country\n",
        "ORDER BY total_videos DESC\n",
        "LIMIT 10\n",
        "''').show()"
      ],
      "metadata": {
        "id": "_Q0zg0JBvIzW",
        "colab": {
          "base_uri": "https://localhost:8080/"
        },
        "outputId": "d20f3ae9-51e5-4731-c9c7-14028b1b6ebe"
      },
      "execution_count": null,
      "outputs": [
        {
          "output_type": "stream",
          "name": "stdout",
          "text": [
            "+-----------+-------+------------+\n",
            "|category_id|Country|total_videos|\n",
            "+-----------+-------+------------+\n",
            "|         24|     MX|       11137|\n",
            "|         24|     DE|       10329|\n",
            "|         22|     RU|        8842|\n",
            "|         24|     CA|        7991|\n",
            "|         24|     IN|        7550|\n",
            "|         24|     FR|        7390|\n",
            "|         22|     MX|        6945|\n",
            "|         24|     RU|        4617|\n",
            "|         25|     RU|        4529|\n",
            "|         22|     FR|        4490|\n",
            "+-----------+-------+------------+\n",
            "\n"
          ]
        }
      ]
    },
    {
      "cell_type": "code",
      "source": [
        "# 8. Which category has the highest average views?\n",
        "spark.sql('''\n",
        "SELECT category_id, AVG(views) as avg_views\n",
        "FROM YouTubeData\n",
        "GROUP BY category_id\n",
        "ORDER BY avg_views DESC\n",
        "LIMIT 5\n",
        "''').show()"
      ],
      "metadata": {
        "id": "RbvBDEkKvIuq",
        "colab": {
          "base_uri": "https://localhost:8080/"
        },
        "outputId": "9eb81c0e-d9e7-45bb-8bc5-9162d70a20da"
      },
      "execution_count": null,
      "outputs": [
        {
          "output_type": "stream",
          "name": "stdout",
          "text": [
            "+-----------+-----------------+\n",
            "|category_id|        avg_views|\n",
            "+-----------+-----------------+\n",
            "|         10|6108042.571974584|\n",
            "|         30|        1774642.9|\n",
            "|          1|  1325991.2667999|\n",
            "|         28|1121661.288927988|\n",
            "|         24|956282.1909229086|\n",
            "+-----------+-----------------+\n",
            "\n"
          ]
        }
      ]
    },
    {
      "cell_type": "code",
      "source": [
        "# 9.  Which channels get the highest average likes-dislikes ratio?\n",
        "spark.sql('''\n",
        "SELECT channel_title, AVG(likes/dislikes) as avg_likes_dislikes_ratio\n",
        "FROM YouTubeData\n",
        "GROUP BY channel_title\n",
        "ORDER BY avg_likes_dislikes_ratio DESC\n",
        "LIMIT 5\n",
        "''').show()"
      ],
      "metadata": {
        "id": "7LZothvdvIf8",
        "colab": {
          "base_uri": "https://localhost:8080/"
        },
        "outputId": "4199e8ce-36f6-42a5-a72d-8fe214fab8f8"
      },
      "execution_count": null,
      "outputs": [
        {
          "output_type": "stream",
          "name": "stdout",
          "text": [
            "+--------------------+------------------------+\n",
            "|       channel_title|avg_likes_dislikes_ratio|\n",
            "+--------------------+------------------------+\n",
            "|    Audience Network|                 11688.0|\n",
            "|     tokkibeaglesubs|                  2686.0|\n",
            "|BANG BANGTAN - Fa...|                  2028.0|\n",
            "|NEWPLAN ENTERTAIN...|      1987.6000000000001|\n",
            "|          Goeggi 187|                  1804.0|\n",
            "+--------------------+------------------------+\n",
            "\n"
          ]
        }
      ]
    },
    {
      "cell_type": "markdown",
      "source": [
        "# Temporal Analysis"
      ],
      "metadata": {
        "id": "p_xvM49wrvVF"
      }
    },
    {
      "cell_type": "code",
      "source": [
        "# 10. On which days of the week are videos most likely to trend?\n",
        "spark.sql('''\n",
        "SELECT DAYOFWEEK(trending_date) as day_of_week, COUNT(DISTINCT video_id) as total_videos\n",
        "FROM YouTubeData\n",
        "GROUP BY day_of_week\n",
        "ORDER BY total_videos DESC\n",
        "LIMIT 7\n",
        "''').show()"
      ],
      "metadata": {
        "id": "G0UPTo8nrzL1",
        "colab": {
          "base_uri": "https://localhost:8080/"
        },
        "outputId": "30546963-0511-4fea-cd3d-a76b720a8fef"
      },
      "execution_count": null,
      "outputs": [
        {
          "output_type": "stream",
          "name": "stdout",
          "text": [
            "+-----------+------------+\n",
            "|day_of_week|total_videos|\n",
            "+-----------+------------+\n",
            "|          3|       43397|\n",
            "|          7|       42945|\n",
            "|          2|       41762|\n",
            "|          1|       41517|\n",
            "|          6|       41400|\n",
            "|          4|       40950|\n",
            "|          5|       40812|\n",
            "+-----------+------------+\n",
            "\n"
          ]
        }
      ]
    },
    {
      "cell_type": "code",
      "source": [
        "# 12. What is the relationship between publish_time and the date it trended (trending_date)? (lag time analysis)\n",
        "spark.sql('''\n",
        "SELECT title,publish_time, trending_date, DATEDIFF(trending_date, publish_time) as lag_time\n",
        "FROM YouTubeData\n",
        "ORDER BY lag_time DESC\n",
        "LIMIT 5\n",
        "''').show()"
      ],
      "metadata": {
        "id": "tOxFMLdivhiy",
        "colab": {
          "base_uri": "https://localhost:8080/"
        },
        "outputId": "fcf003fe-4c7a-4ac8-9a96-a68cc49e23a0"
      },
      "execution_count": null,
      "outputs": [
        {
          "output_type": "stream",
          "name": "stdout",
          "text": [
            "+--------------------+-------------------+-------------+--------+\n",
            "|               title|       publish_time|trending_date|lag_time|\n",
            "+--------------------+-------------------+-------------+--------+\n",
            "|Budweiser - Origi...|2006-07-23 08:24:11|   2018-02-05|    4215|\n",
            "|Jeffrey Lewis The...|2007-03-05 16:23:55|   2018-02-05|    3990|\n",
            "|Jeffrey Lewis The...|2007-03-05 16:23:55|   2018-02-04|    3989|\n",
            "|Jeffrey Lewis The...|2007-03-05 16:23:55|   2018-02-03|    3988|\n",
            "|Jeffrey Lewis The...|2007-03-05 16:23:55|   2018-02-02|    3987|\n",
            "+--------------------+-------------------+-------------+--------+\n",
            "\n"
          ]
        }
      ]
    },
    {
      "cell_type": "code",
      "source": [
        "# 13. Do videos published at certain hours of the day get more views/likes?\n",
        "spark.sql('''\n",
        "SELECT HOUR(publish_time) as hour_of_day, AVG(views) as avg_views, AVG(likes) as avg_likes\n",
        "FROM YouTubeData\n",
        "GROUP BY hour_of_day\n",
        "ORDER BY avg_views DESC\n",
        "LIMIT 10\n",
        "''').show()"
      ],
      "metadata": {
        "id": "JJqkeMMWvhU2",
        "colab": {
          "base_uri": "https://localhost:8080/"
        },
        "outputId": "fd586355-c73a-4ce7-f4fc-52ea244363ae"
      },
      "execution_count": null,
      "outputs": [
        {
          "output_type": "stream",
          "name": "stdout",
          "text": [
            "+-----------+------------------+------------------+\n",
            "|hour_of_day|         avg_views|         avg_likes|\n",
            "+-----------+------------------+------------------+\n",
            "|          4|3920955.3391702585|100983.24353448275|\n",
            "|          5| 3790290.774269516| 79780.71993022242|\n",
            "|          0| 1632129.039534396|  41877.7886954698|\n",
            "|         22|1519862.5901614025|  40079.3564754035|\n",
            "|         14|1441890.0275246683| 39675.90784193381|\n",
            "|         13|1392796.0584293755|40805.071348164034|\n",
            "|          9| 1348815.936199824| 64002.84734837386|\n",
            "|          1| 1302162.908829569|31933.228234086244|\n",
            "|         21|1290694.8542458809| 40706.34467347075|\n",
            "|         12|1266167.4768865567| 35115.74556471764|\n",
            "+-----------+------------------+------------------+\n",
            "\n"
          ]
        }
      ]
    },
    {
      "cell_type": "code",
      "source": [
        "# 14. Which month had the most trending videos overall?\n",
        "spark.sql('''\n",
        "SELECT MONTH(trending_date) as month, COUNT(DISTINCT video_id) as total_videos\n",
        "FROM YouTubeData\n",
        "GROUP BY month\n",
        "ORDER BY total_videos DESC\n",
        "LIMIT 5\n",
        "''').show()"
      ],
      "metadata": {
        "id": "y9V9hf2pvhKW",
        "colab": {
          "base_uri": "https://localhost:8080/"
        },
        "outputId": "8349bd23-b775-4791-c55d-34af31a11927"
      },
      "execution_count": null,
      "outputs": [
        {
          "output_type": "stream",
          "name": "stdout",
          "text": [
            "+-----+------------+\n",
            "|month|total_videos|\n",
            "+-----+------------+\n",
            "|    3|       29069|\n",
            "|    5|       27810|\n",
            "|   12|       27112|\n",
            "|    2|       26888|\n",
            "|    1|       26080|\n",
            "+-----+------------+\n",
            "\n"
          ]
        }
      ]
    },
    {
      "cell_type": "markdown",
      "source": [
        "# Engagement Metrics"
      ],
      "metadata": {
        "id": "XYJSivSPrzz5"
      }
    },
    {
      "cell_type": "code",
      "source": [
        "# 1. What is the correlation between views, likes, dislikes, and comment_count?\n",
        "spark.sql('''\n",
        "SELECT\n",
        "  CORR(views, likes) AS views_likes_corr,\n",
        "  CORR(views, dislikes) AS views_dislikes_corr,\n",
        "  CORR(views, comment_count) AS views_comment_count_corr\n",
        "  FROM YouTubeData\n",
        "''').show()"
      ],
      "metadata": {
        "id": "UrU7g_LIr7ou",
        "colab": {
          "base_uri": "https://localhost:8080/"
        },
        "outputId": "9ea09d2d-82e8-4b03-f4cc-437f7a07aa4f"
      },
      "execution_count": null,
      "outputs": [
        {
          "output_type": "stream",
          "name": "stdout",
          "text": [
            "+------------------+-------------------+------------------------+\n",
            "|  views_likes_corr|views_dislikes_corr|views_comment_count_corr|\n",
            "+------------------+-------------------+------------------------+\n",
            "|0.7796715240598108| 0.4198648462066727|      0.5102135005065809|\n",
            "+------------------+-------------------+------------------------+\n",
            "\n"
          ]
        }
      ]
    },
    {
      "cell_type": "code",
      "source": [
        "# 2. Which videos have the highest like-to-dislike ratio?\n",
        "spark.sql('''\n",
        "SELECT title, likes/dislikes as like_to_dislike_ratio\n",
        "FROM YouTubeData\n",
        "ORDER BY like_to_dislike_ratio DESC\n",
        "LIMIT 5\n",
        "''').show()"
      ],
      "metadata": {
        "id": "bJp7ClN1wEd3",
        "colab": {
          "base_uri": "https://localhost:8080/"
        },
        "outputId": "2c0ec621-7bb0-4bf7-d30a-13650f3b8c1d"
      },
      "execution_count": null,
      "outputs": [
        {
          "output_type": "stream",
          "name": "stdout",
          "text": [
            "+--------------------+---------------------+\n",
            "|               title|like_to_dislike_ratio|\n",
            "+--------------------+---------------------+\n",
            "|Alone in the Game...|              11688.0|\n",
            "|[Dance Practice] ...|              3550.75|\n",
            "|[Dance Practice] ...|               3550.5|\n",
            "|    [BT21] Meet BT21|   3233.8571428571427|\n",
            "|Swing - Rivage (P...|               3177.0|\n",
            "+--------------------+---------------------+\n",
            "\n"
          ]
        }
      ]
    },
    {
      "cell_type": "code",
      "source": [
        "# 3. Which video has the highest comment-to-view ratio (most discussion-heavy)?\n",
        "spark.sql('''\n",
        "SELECT title, comment_count/views as comment_to_view_ratio\n",
        "FROM YouTubeData\n",
        "ORDER BY comment_to_view_ratio DESC\n",
        "LIMIT 5\n",
        "''').show()"
      ],
      "metadata": {
        "id": "TiquDw4pwEOw",
        "colab": {
          "base_uri": "https://localhost:8080/"
        },
        "outputId": "94a518e5-2d6a-4688-fc78-f1b4dffe09e3"
      },
      "execution_count": null,
      "outputs": [
        {
          "output_type": "stream",
          "name": "stdout",
          "text": [
            "+--------------------+---------------------+\n",
            "|               title|comment_to_view_ratio|\n",
            "+--------------------+---------------------+\n",
            "|Праздничные Мясны...|   0.5990044714418291|\n",
            "|Подарил Афоне DUC...|   0.5414900106181895|\n",
            "|Tag 20 #alexkalen...|   0.5261558409984197|\n",
            "|Tag 4 #alexkalend...|    0.519130564239988|\n",
            "|★i7-7700k / GTX10...|   0.5189880056038778|\n",
            "+--------------------+---------------------+\n",
            "\n"
          ]
        }
      ]
    },
    {
      "cell_type": "code",
      "source": [
        "from pyspark.sql.functions import lower\n",
        "\n",
        "results = df.filter(lower(col(\"title\")).like(\"%праздничные мясные%\"))\n",
        "results.select(\"title\", \"channel_title\").show(truncate=False)\n"
      ],
      "metadata": {
        "colab": {
          "base_uri": "https://localhost:8080/"
        },
        "id": "NEB8SgBrGBAy",
        "outputId": "c2271ed0-5ea6-49a7-fb26-fac0121b007d"
      },
      "execution_count": null,
      "outputs": [
        {
          "output_type": "stream",
          "name": "stdout",
          "text": [
            "+-------------------------------------------------------------------------+--------------+\n",
            "|title                                                                    |channel_title |\n",
            "+-------------------------------------------------------------------------+--------------+\n",
            "|Праздничные Мясные РУЛЕТИКИ с грибами и черносливом - ну, оОчень вкусные!|Семейная кухня|\n",
            "+-------------------------------------------------------------------------+--------------+\n",
            "\n"
          ]
        }
      ]
    },
    {
      "cell_type": "markdown",
      "source": [
        "# Country Comparisons"
      ],
      "metadata": {
        "id": "Xy_q-bJHsBx_"
      }
    },
    {
      "cell_type": "code",
      "source": [
        "# 1. How do average views of trending videos differ across countries?\n",
        "spark.sql('''\n",
        "SELECT Country, AVG(views) as avg_views\n",
        "FROM YouTubeData\n",
        "GROUP BY Country\n",
        "ORDER BY avg_views DESC\n",
        "''').show()"
      ],
      "metadata": {
        "id": "w8mfeJfosGbB",
        "colab": {
          "base_uri": "https://localhost:8080/"
        },
        "outputId": "9681ac3a-6fa2-4919-b24f-ec8f85f89fae"
      },
      "execution_count": null,
      "outputs": [
        {
          "output_type": "stream",
          "name": "stdout",
          "text": [
            "+-------+------------------+\n",
            "|Country|         avg_views|\n",
            "+-------+------------------+\n",
            "|     GB| 6004375.792724867|\n",
            "|     US|2388865.2514258195|\n",
            "|     CA|1148244.9480448044|\n",
            "|     IN| 961737.5640802364|\n",
            "|Unknown| 861106.5849318234|\n",
            "|     DE| 604021.9207972923|\n",
            "|     FR|422096.88267819444|\n",
            "|     KR| 420361.8305517068|\n",
            "|     MX|  341875.917131234|\n",
            "|     RU|240582.11209099565|\n",
            "|     JP|238758.06677243568|\n",
            "+-------+------------------+\n",
            "\n"
          ]
        }
      ]
    },
    {
      "cell_type": "code",
      "source": [
        "# 2. Which category trends most in each country?\n",
        "spark.sql('''\n",
        "SELECT Country, category_id, COUNT(DISTINCT video_id) as total_videos\n",
        "FROM YouTubeData\n",
        "GROUP BY Country, category_id\n",
        "ORDER BY total_videos DESC\n",
        "''').show()"
      ],
      "metadata": {
        "id": "54ndaArRwaQA",
        "colab": {
          "base_uri": "https://localhost:8080/"
        },
        "outputId": "36993c8c-2a45-427e-d785-50c1b9cbeeab"
      },
      "execution_count": null,
      "outputs": [
        {
          "output_type": "stream",
          "name": "stdout",
          "text": [
            "+-------+-----------+------------+\n",
            "|Country|category_id|total_videos|\n",
            "+-------+-----------+------------+\n",
            "|     MX|         24|       11137|\n",
            "|     DE|         24|       10329|\n",
            "|     RU|         22|        8842|\n",
            "|     CA|         24|        7991|\n",
            "|     IN|         24|        7550|\n",
            "|     FR|         24|        7390|\n",
            "|     MX|         22|        6945|\n",
            "|     RU|         24|        4617|\n",
            "|     RU|         25|        4529|\n",
            "|     FR|         22|        4490|\n",
            "|     DE|         22|        4401|\n",
            "|     KR|         24|        4074|\n",
            "|     JP|         24|        3819|\n",
            "|     KR|         25|        3698|\n",
            "|     MX|         17|        3363|\n",
            "|     KR|         22|        3343|\n",
            "|     FR|         17|        3306|\n",
            "|     FR|         25|        3008|\n",
            "|     CA|         25|        2893|\n",
            "|     RU|          1|        2570|\n",
            "+-------+-----------+------------+\n",
            "only showing top 20 rows\n",
            "\n"
          ]
        }
      ]
    },
    {
      "cell_type": "code",
      "source": [
        "# 3. Do videos in some countries have more engagement (likes/comments) than others?\n",
        "spark.sql('''\n",
        "SELECT Country, AVG(likes) as avg_likes, AVG(comment_count) as avg_comments\n",
        "FROM YouTubeData\n",
        "GROUP BY Country\n",
        "ORDER BY avg_likes DESC, avg_comments DESC\n",
        "''').show()"
      ],
      "metadata": {
        "id": "B85h6YOrwaEF",
        "colab": {
          "base_uri": "https://localhost:8080/"
        },
        "outputId": "8c2e9e84-280b-46b2-bc9e-ff456c87a858"
      },
      "execution_count": null,
      "outputs": [
        {
          "output_type": "stream",
          "name": "stdout",
          "text": [
            "+-------+------------------+------------------+\n",
            "|Country|         avg_likes|      avg_comments|\n",
            "+-------+------------------+------------------+\n",
            "|     GB|136507.19666666666|13293.367513227513|\n",
            "|     US| 75490.25695166155| 8640.813540848141|\n",
            "|     CA| 39831.33703370337| 5091.389863986398|\n",
            "|     IN| 24368.25722282693| 2424.728564764422|\n",
            "|     DE|22062.591976933683| 2816.025423091388|\n",
            "|Unknown| 21225.75109775826|1743.1469840536167|\n",
            "|     FR|17600.174776314467|1856.9963054187192|\n",
            "|     MX|15822.806991110441|2031.8541509718245|\n",
            "|     RU|12459.625244275192|1766.6545322443253|\n",
            "|     KR|11888.622370575638|1954.0132888273083|\n",
            "|     JP| 7131.335793612471|1025.8350003448988|\n",
            "+-------+------------------+------------------+\n",
            "\n"
          ]
        }
      ]
    },
    {
      "cell_type": "code",
      "source": [
        "# 4\n",
        "spark.sql('''\n",
        "WITH max_views_per_country AS (\n",
        "    SELECT Country, MAX(views) AS max_views\n",
        "    FROM YouTubeData\n",
        "    GROUP BY Country\n",
        ")\n",
        "SELECT y.Country, y.title, y.views AS Number_of_views\n",
        "FROM YouTubeData y\n",
        "JOIN max_views_per_country m\n",
        "  ON y.Country = m.Country AND y.views = m.max_views\n",
        "ORDER BY y.Country\n",
        "''').show(truncate=False)\n"
      ],
      "metadata": {
        "colab": {
          "base_uri": "https://localhost:8080/"
        },
        "id": "7EeQuoqoUxAn",
        "outputId": "6bd332f1-a0cf-44fb-ab7d-358cebcc22d6"
      },
      "execution_count": null,
      "outputs": [
        {
          "output_type": "stream",
          "name": "stdout",
          "text": [
            "+-------+--------------------------------------------------------------------------+---------------+\n",
            "|Country|title                                                                     |Number_of_views|\n",
            "+-------+--------------------------------------------------------------------------+---------------+\n",
            "|CA     |YouTube Rewind: The Shape of 2017 | #YouTubeRewind                        |137843120      |\n",
            "|DE     |YouTube Rewind: The Shape of 2017 | #YouTubeRewind                        |113876217      |\n",
            "|FR     |YouTube Rewind: The Shape of 2017 | #YouTubeRewind                        |100911567      |\n",
            "|GB     |Nicky Jam x J. Balvin - X (EQUIS) | Video Oficial | Prod. Afro Bros & Jeon|424538912      |\n",
            "|IN     |YouTube Rewind: The Shape of 2017 | #YouTubeRewind                        |125432237      |\n",
            "|JP     |BTS (방탄소년단) 'FAKE LOVE' Official MV                                  |62796390       |\n",
            "|KR     |YouTube Rewind: The Shape of 2017 | #YouTubeRewind                        |113876217      |\n",
            "|MX     |YouTube Rewind: The Shape of 2017 | #YouTubeRewind                        |100912384      |\n",
            "|RU     |BTS (방탄소년단) 'FAKE LOVE' Official MV                                  |62796390       |\n",
            "|US     |Childish Gambino - This Is America (Official Video)                       |225211923      |\n",
            "|Unknown|Stranger Things Cast Answer the Web's Most Searched Questions | WIRED     |13025011       |\n",
            "+-------+--------------------------------------------------------------------------+---------------+\n",
            "\n"
          ]
        }
      ]
    },
    {
      "cell_type": "code",
      "source": [],
      "metadata": {
        "id": "qYxbbx4PV39z"
      },
      "execution_count": null,
      "outputs": []
    }
  ],
  "metadata": {
    "colab": {
      "provenance": [],
      "authorship_tag": "ABX9TyOmmW9PIpsl65T7WctVZ8re",
      "include_colab_link": true
    },
    "kernelspec": {
      "display_name": "Python 3",
      "name": "python3"
    },
    "language_info": {
      "name": "python"
    }
  },
  "nbformat": 4,
  "nbformat_minor": 0
}